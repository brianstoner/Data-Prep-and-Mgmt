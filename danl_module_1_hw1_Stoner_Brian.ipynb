{
  "nbformat": 4,
  "nbformat_minor": 0,
  "metadata": {
    "colab": {
      "provenance": [],
      "authorship_tag": "ABX9TyMFvGrOJo/pK3CkHrolmbAf",
      "include_colab_link": true
    },
    "kernelspec": {
      "name": "python3",
      "display_name": "Python 3"
    },
    "language_info": {
      "name": "python"
    }
  },
  "cells": [
    {
      "cell_type": "markdown",
      "metadata": {
        "id": "view-in-github",
        "colab_type": "text"
      },
      "source": [
        "<a href=\"https://colab.research.google.com/github/brianstoner/Data-Prep-and-Mgmt/blob/main/danl_module_1_hw1_Stoner_Brian.ipynb\" target=\"_parent\"><img src=\"https://colab.research.google.com/assets/colab-badge.svg\" alt=\"Open In Colab\"/></a>"
      ]
    },
    {
      "cell_type": "code",
      "execution_count": 2,
      "metadata": {
        "colab": {
          "base_uri": "https://localhost:8080/"
        },
        "id": "9Sonj9f5HFE7",
        "outputId": "ed1e163e-5f70-4055-bcaa-6a36f76de31d"
      },
      "outputs": [
        {
          "output_type": "stream",
          "name": "stdout",
          "text": [
            "5\n"
          ]
        }
      ],
      "source": [
        "# This code assigns the integer value 5 to the variable x and prints the result to the terminal\n",
        "x = 5\n",
        "print(x)"
      ]
    },
    {
      "cell_type": "code",
      "source": [
        "# In this example, 2 will be the first value returned, because it's in position 1 (1 is actually in position 0)\n",
        "# and 4 will be the last number returned in the range, because it represents the end index position minus one\n",
        "lst = [1,2,3,4,5]\n",
        "print(lst[1:4])"
      ],
      "metadata": {
        "colab": {
          "base_uri": "https://localhost:8080/"
        },
        "id": "E6KOO50TH29-",
        "outputId": "cd6fd0f0-87a9-4c81-ed60-b5101c96f150"
      },
      "execution_count": 4,
      "outputs": [
        {
          "output_type": "stream",
          "name": "stdout",
          "text": [
            "[2, 3, 4]\n"
          ]
        }
      ]
    },
    {
      "cell_type": "code",
      "source": [
        "# The syntax below illustrates how to create key/value pairs in a dictionary. The pair is separated by a colon, with a comma between pairs\n",
        "# To retrieve the value from a key, place the key in square brackets next to the dictionary\n",
        "lst_fruits = {\"apple\": 5, \"banana\": 3, \"cherry\": 7}\n",
        "print(lst_fruits[\"banana\"])\n"
      ],
      "metadata": {
        "colab": {
          "base_uri": "https://localhost:8080/"
        },
        "id": "qUYNPLmxJiZm",
        "outputId": "f52dc90c-0031-43fb-cd35-749c9ba8cb0a"
      },
      "execution_count": 15,
      "outputs": [
        {
          "output_type": "stream",
          "name": "stdout",
          "text": [
            "3\n"
          ]
        }
      ]
    },
    {
      "cell_type": "code",
      "source": [
        "# True and False would evaluate to false, when evaluating a single condition.  Both the left and right operands must be true in an AND comparison to return a true value.\n",
        "# Example: 19 == 20 cannot be both true and false, so this is false\n",
        "\n",
        "# True or False would evaluate to true, when evaluating a single condition.  With the OR operator, either operand must evaluate to true, for the entire expression to be true.  Since all possibilities will be either true or false, any condition will be true\n",
        "# Example: 19 == 20 is false and not true, so this satifies the condition and evaluates to true\n",
        "\n",
        "# This expression would evaluate to True, as int(100) is not equal to str(100), as they are different datatypes, and 25 is less than 36\n",
        "not (100 == '100' and 25 < 36)"
      ],
      "metadata": {
        "colab": {
          "base_uri": "https://localhost:8080/"
        },
        "id": "yTC3XIVRM5JV",
        "outputId": "c9bd3ea5-56e3-4856-dead-1f8ab866fb1c"
      },
      "execution_count": 20,
      "outputs": [
        {
          "output_type": "execute_result",
          "data": {
            "text/plain": [
              "True"
            ]
          },
          "metadata": {},
          "execution_count": 20
        }
      ]
    },
    {
      "cell_type": "code",
      "source": [
        "# The following code will print to the terminal a category label, based on the value of the variable score\n",
        "score = 90\n",
        "\n",
        "if score > 90:\n",
        "  print(\"Well Done\")\n",
        "elif score >= 40 and score <= 90:\n",
        "  print(\"Good\")\n",
        "else:\n",
        "  print(\"Bad Luck\")\n"
      ],
      "metadata": {
        "colab": {
          "base_uri": "https://localhost:8080/"
        },
        "id": "4hnNbjZ8Uljv",
        "outputId": "de5b13c6-f1ce-491e-e9a6-b876652b85a8"
      },
      "execution_count": 37,
      "outputs": [
        {
          "output_type": "stream",
          "name": "stdout",
          "text": [
            "Good\n"
          ]
        }
      ]
    },
    {
      "cell_type": "code",
      "source": [
        "# THis codes iterates through each list element and returns it as a separate row in the output\n",
        "name_list = [\"coding\", \"for\", \"data\", \"analysts\"]\n",
        "\n",
        "for item in name_list:\n",
        "  print(item)"
      ],
      "metadata": {
        "colab": {
          "base_uri": "https://localhost:8080/"
        },
        "id": "eG4cTnHnh-_k",
        "outputId": "fe0d497e-1c34-42cd-a1b3-f6e13d16a218"
      },
      "execution_count": 41,
      "outputs": [
        {
          "output_type": "stream",
          "name": "stdout",
          "text": [
            "coding\n",
            "for\n",
            "data\n",
            "analysts\n"
          ]
        }
      ]
    },
    {
      "cell_type": "code",
      "source": [
        "# ** See visual to the right **\n",
        "# To import the math module, simply type <import math> with an optional alias\n",
        "# To confirm the import, you can optionally use <help('modules') for a list of locally-installed modules\n",
        "math.sqrt(16)"
      ],
      "metadata": {
        "colab": {
          "base_uri": "https://localhost:8080/",
          "height": 72
        },
        "id": "lrsmdBHDrQ01",
        "outputId": "1b00f6f0-8998-49cc-a5e9-370b219673ea"
      },
      "execution_count": 52,
      "outputs": [
        {
          "output_type": "stream",
          "name": "stderr",
          "text": [
            "/usr/local/lib/python3.10/dist-packages/ipykernel/ipkernel.py:283: DeprecationWarning: `should_run_async` will not call `transform_cell` automatically in the future. Please pass the result to `transformed_cell` argument and any exception that happen during thetransform in `preprocessing_exc_tuple` in IPython 7.17 and above.\n"
          ]
        },
        {
          "output_type": "display_data",
          "data": {
            "text/plain": [
              "<IPython.core.display.HTML object>"
            ],
            "text/html": [
              "\n",
              "            <style>\n",
              "                .geemap-dark {\n",
              "                    --jp-widgets-color: white;\n",
              "                    --jp-widgets-label-color: white;\n",
              "                    --jp-ui-font-color1: white;\n",
              "                    --jp-layout-color2: #454545;\n",
              "                    background-color: #383838;\n",
              "                }\n",
              "                    \n",
              "                .geemap-dark .jupyter-button {\n",
              "                    --jp-layout-color3: #383838;\n",
              "                }\n",
              "                \n",
              "                .geemap-colab {\n",
              "                    background-color: var(--colab-primary-surface-color, white);\n",
              "                }\n",
              "                    \n",
              "                .geemap-colab .jupyter-button {\n",
              "                    --jp-layout-color3: var(--colab-primary-surface-color, white);\n",
              "                }\n",
              "            </style>\n",
              "            "
            ]
          },
          "metadata": {}
        },
        {
          "output_type": "execute_result",
          "data": {
            "text/plain": [
              "4.0"
            ]
          },
          "metadata": {},
          "execution_count": 52
        }
      ]
    },
    {
      "cell_type": "code",
      "source": [],
      "metadata": {
        "id": "7cFniavdxuul"
      },
      "execution_count": null,
      "outputs": []
    }
  ]
}