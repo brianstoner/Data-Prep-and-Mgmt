{
  "nbformat": 4,
  "nbformat_minor": 0,
  "metadata": {
    "colab": {
      "provenance": [],
      "authorship_tag": "ABX9TyPP20RZ3oH3Ljr6n6Gfez6f",
      "include_colab_link": true
    },
    "kernelspec": {
      "name": "python3",
      "display_name": "Python 3"
    },
    "language_info": {
      "name": "python"
    }
  },
  "cells": [
    {
      "cell_type": "markdown",
      "metadata": {
        "id": "view-in-github",
        "colab_type": "text"
      },
      "source": [
        "<a href=\"https://colab.research.google.com/github/brianstoner/Data-Prep-and-Mgmt/blob/main/danl_module_1_hw1_Stoner_Brian.ipynb\" target=\"_parent\"><img src=\"https://colab.research.google.com/assets/colab-badge.svg\" alt=\"Open In Colab\"/></a>"
      ]
    },
    {
      "cell_type": "code",
      "execution_count": 2,
      "metadata": {
        "colab": {
          "base_uri": "https://localhost:8080/"
        },
        "id": "9Sonj9f5HFE7",
        "outputId": "ed1e163e-5f70-4055-bcaa-6a36f76de31d"
      },
      "outputs": [
        {
          "output_type": "stream",
          "name": "stdout",
          "text": [
            "5\n"
          ]
        }
      ],
      "source": [
        "# This code assigns the integer value 5 to the variable x and prints the result to the terminal\n",
        "x = 5\n",
        "print(x)"
      ]
    },
    {
      "cell_type": "code",
      "source": [
        "# In this example, 2 will be the first value returned, because it's in position 1 (1 is actually in position 0)\n",
        "# and 4 will be the last number returned in the range, because it represents the end index position minus one\n",
        "lst = [1,2,3,4,5]\n",
        "print(lst[1:4])"
      ],
      "metadata": {
        "colab": {
          "base_uri": "https://localhost:8080/"
        },
        "id": "E6KOO50TH29-",
        "outputId": "cd6fd0f0-87a9-4c81-ed60-b5101c96f150"
      },
      "execution_count": 4,
      "outputs": [
        {
          "output_type": "stream",
          "name": "stdout",
          "text": [
            "[2, 3, 4]\n"
          ]
        }
      ]
    },
    {
      "cell_type": "code",
      "source": [
        "# The syntax below illustrates how to create key/value pairs in a dictionary. The pair is separated by a colon, with a comma between pairs\n",
        "# To retrieve the value from a key, place the key in square brackets next to the dictionary\n",
        "lst_fruits = {\"apple\": 5, \"banana\": 3, \"cherry\": 7}\n",
        "print(lst_fruits[\"banana\"])\n"
      ],
      "metadata": {
        "colab": {
          "base_uri": "https://localhost:8080/"
        },
        "id": "qUYNPLmxJiZm",
        "outputId": "f52dc90c-0031-43fb-cd35-749c9ba8cb0a"
      },
      "execution_count": 15,
      "outputs": [
        {
          "output_type": "stream",
          "name": "stdout",
          "text": [
            "3\n"
          ]
        }
      ]
    },
    {
      "cell_type": "code",
      "source": [],
      "metadata": {
        "id": "yTC3XIVRM5JV"
      },
      "execution_count": null,
      "outputs": []
    }
  ]
}