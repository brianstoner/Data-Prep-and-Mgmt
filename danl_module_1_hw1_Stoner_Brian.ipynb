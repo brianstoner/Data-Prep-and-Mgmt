{
  "nbformat": 4,
  "nbformat_minor": 0,
  "metadata": {
    "colab": {
      "provenance": [],
      "authorship_tag": "ABX9TyN6BJ+8FP+BvBE2BLLxQYRV",
      "include_colab_link": true
    },
    "kernelspec": {
      "name": "python3",
      "display_name": "Python 3"
    },
    "language_info": {
      "name": "python"
    }
  },
  "cells": [
    {
      "cell_type": "markdown",
      "metadata": {
        "id": "view-in-github",
        "colab_type": "text"
      },
      "source": [
        "<a href=\"https://colab.research.google.com/github/brianstoner/Data-Prep-and-Mgmt/blob/main/danl_module_1_hw1_Stoner_Brian.ipynb\" target=\"_parent\"><img src=\"https://colab.research.google.com/assets/colab-badge.svg\" alt=\"Open In Colab\"/></a>"
      ]
    },
    {
      "cell_type": "code",
      "execution_count": 2,
      "metadata": {
        "colab": {
          "base_uri": "https://localhost:8080/"
        },
        "id": "9Sonj9f5HFE7",
        "outputId": "ed1e163e-5f70-4055-bcaa-6a36f76de31d"
      },
      "outputs": [
        {
          "output_type": "stream",
          "name": "stdout",
          "text": [
            "5\n"
          ]
        }
      ],
      "source": [
        "# This code assigns the integer value 5 to the variable x and prints the result to the terminal\n",
        "x = 5\n",
        "print(x)"
      ]
    },
    {
      "cell_type": "code",
      "source": [
        "# In this example, 2 will be the first value returned, because it's in position 1 (1 is actually in position 0)\n",
        "# and 4 will be the last number returned in the range, because it represents the end index position minus one\n",
        "lst = [1,2,3,4,5]\n",
        "print(lst[1:4])"
      ],
      "metadata": {
        "colab": {
          "base_uri": "https://localhost:8080/"
        },
        "id": "E6KOO50TH29-",
        "outputId": "cd6fd0f0-87a9-4c81-ed60-b5101c96f150"
      },
      "execution_count": 4,
      "outputs": [
        {
          "output_type": "stream",
          "name": "stdout",
          "text": [
            "[2, 3, 4]\n"
          ]
        }
      ]
    },
    {
      "cell_type": "code",
      "source": [
        "# The syntax below illustrates how to create key/value pairs in a dictionary. The pair is separated by a colon, with a comma between pairs\n",
        "# To retrieve the value from a key, place the key in square brackets next to the dictionary\n",
        "lst_fruits = {\"apple\": 5, \"banana\": 3, \"cherry\": 7}\n",
        "print(lst_fruits[\"banana\"])\n"
      ],
      "metadata": {
        "colab": {
          "base_uri": "https://localhost:8080/"
        },
        "id": "qUYNPLmxJiZm",
        "outputId": "f52dc90c-0031-43fb-cd35-749c9ba8cb0a"
      },
      "execution_count": 15,
      "outputs": [
        {
          "output_type": "stream",
          "name": "stdout",
          "text": [
            "3\n"
          ]
        }
      ]
    },
    {
      "cell_type": "code",
      "source": [
        "# True and False would evaluate to false, when evaluating a single condition.  Both the left and right operands must be true in an AND comparison to return a true value.\n",
        "# Example: 19 == 20 cannot be both true and false, so this is false\n",
        "\n",
        "# True or False would evaluate to True, when evaluating a single condition.  With the OR operatopr, either operand must evaluate to true, for the entire expression to be true.  Since all possibilities will be either true or false, any condition will be true\n",
        "# Example: 19 == 20 is false and not true, so this satifies that condition and evaluates to true\n",
        "\n",
        "# This expression would evaluate to True, as int(100) is not equal to str(100), as they are different datatypes, and 25 is less than 36\n",
        "not (100 == '100' and 25 < 36)"
      ],
      "metadata": {
        "colab": {
          "base_uri": "https://localhost:8080/"
        },
        "id": "yTC3XIVRM5JV",
        "outputId": "3445267f-68c9-46b7-9b2a-0897b2d21dd6"
      },
      "execution_count": 19,
      "outputs": [
        {
          "output_type": "execute_result",
          "data": {
            "text/plain": [
              "True"
            ]
          },
          "metadata": {},
          "execution_count": 19
        }
      ]
    },
    {
      "cell_type": "code",
      "source": [],
      "metadata": {
        "id": "4hnNbjZ8Uljv"
      },
      "execution_count": null,
      "outputs": []
    }
  ]
}