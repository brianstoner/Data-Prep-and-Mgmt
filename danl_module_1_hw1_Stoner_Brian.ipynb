{
  "nbformat": 4,
  "nbformat_minor": 0,
  "metadata": {
    "colab": {
      "provenance": [],
      "authorship_tag": "ABX9TyPnmk+LTjH/YvQWqiyFOUI+",
      "include_colab_link": true
    },
    "kernelspec": {
      "name": "python3",
      "display_name": "Python 3"
    },
    "language_info": {
      "name": "python"
    }
  },
  "cells": [
    {
      "cell_type": "markdown",
      "metadata": {
        "id": "view-in-github",
        "colab_type": "text"
      },
      "source": [
        "<a href=\"https://colab.research.google.com/github/brianstoner/Data-Prep-and-Mgmt/blob/main/danl_module_1_hw1_Stoner_Brian.ipynb\" target=\"_parent\"><img src=\"https://colab.research.google.com/assets/colab-badge.svg\" alt=\"Open In Colab\"/></a>"
      ]
    },
    {
      "cell_type": "code",
      "execution_count": 1,
      "metadata": {
        "colab": {
          "base_uri": "https://localhost:8080/"
        },
        "id": "9Sonj9f5HFE7",
        "outputId": "9a645c18-ea7b-4fba-d871-13303b54950d"
      },
      "outputs": [
        {
          "output_type": "stream",
          "name": "stdout",
          "text": [
            "5\n"
          ]
        }
      ],
      "source": [
        "# Question 1\n",
        "# This code assigns the integer value 5 to the variable x and prints the result to the terminal\n",
        "x = 5\n",
        "print(x)"
      ]
    },
    {
      "cell_type": "code",
      "source": [
        "# Question 2\n",
        "# In this example, 2 will be the first value returned, because it's in position 1 (The number 1 is actually in position 0)\n",
        "# and 4 will be the last number returned in the range, because it represents the end index position minus one\n",
        "lst = [1,2,3,4,5]\n",
        "print(lst[1:4])"
      ],
      "metadata": {
        "colab": {
          "base_uri": "https://localhost:8080/"
        },
        "id": "E6KOO50TH29-",
        "outputId": "cd6fd0f0-87a9-4c81-ed60-b5101c96f150"
      },
      "execution_count": 4,
      "outputs": [
        {
          "output_type": "stream",
          "name": "stdout",
          "text": [
            "[2, 3, 4]\n"
          ]
        }
      ]
    },
    {
      "cell_type": "code",
      "source": [
        "# Question 3\n",
        "# The syntax below illustrates how to create key/value pairs in a dictionary. The pair is separated by a colon, with a comma between pairs\n",
        "# To retrieve the value from a key, place the key in square brackets next to the dictionary\n",
        "lst_fruits = {\"apple\": 5, \"banana\": 3, \"cherry\": 7}\n",
        "print(lst_fruits[\"banana\"])\n"
      ],
      "metadata": {
        "colab": {
          "base_uri": "https://localhost:8080/"
        },
        "id": "qUYNPLmxJiZm",
        "outputId": "f52dc90c-0031-43fb-cd35-749c9ba8cb0a"
      },
      "execution_count": 15,
      "outputs": [
        {
          "output_type": "stream",
          "name": "stdout",
          "text": [
            "3\n"
          ]
        }
      ]
    },
    {
      "cell_type": "code",
      "source": [
        "# Question 4\n",
        "# True and False would evaluate to false, when evaluating a single condition.  Both the left and right operands must be true in an AND comparison to return a true value.\n",
        "# Example: 19 == 20 cannot be both true and false, so this is false\n",
        "\n",
        "# True or False would evaluate to true, when evaluating a single condition.  With the OR operator, either operand must evaluate to true, for the entire expression to be true.  Since all possibilities will be either true or false, any condition will be true\n",
        "# Example: 19 == 20 is false, so this satifies the condition and evaluates the entire expression to true\n",
        "\n",
        "# This expression would evaluate to true, as int(100) is not equal to str(100), as they are different datatypes, and 25 is less than 36\n",
        "# The NOT operator negates true, so the entire exmpression is 'not false' which is true\n",
        "not (100 == '100' and 25 < 36)"
      ],
      "metadata": {
        "colab": {
          "base_uri": "https://localhost:8080/"
        },
        "id": "yTC3XIVRM5JV",
        "outputId": "4189d4a3-efd5-4bc4-c489-a1f2d3b7e9b9"
      },
      "execution_count": 8,
      "outputs": [
        {
          "output_type": "execute_result",
          "data": {
            "text/plain": [
              "True"
            ]
          },
          "metadata": {},
          "execution_count": 8
        }
      ]
    },
    {
      "cell_type": "code",
      "source": [
        "# Question 5\n",
        "# The following code will print to the terminal a certain category label, based on the value of the variable score\n",
        "score = 85\n",
        "\n",
        "if score > 90:\n",
        "  print(\"Well Done\")\n",
        "elif score >= 40 and score <= 90:\n",
        "  print(\"Good\")\n",
        "else:\n",
        "  print(\"Bad Luck\")\n"
      ],
      "metadata": {
        "colab": {
          "base_uri": "https://localhost:8080/"
        },
        "id": "4hnNbjZ8Uljv",
        "outputId": "a1a93f3e-9989-439a-e901-b5b1a1e55f50"
      },
      "execution_count": 9,
      "outputs": [
        {
          "output_type": "stream",
          "name": "stdout",
          "text": [
            "Good\n"
          ]
        }
      ]
    },
    {
      "cell_type": "code",
      "source": [
        "# Question 6\n",
        "# This code iterates through each list element and returns it as a separate row in the output\n",
        "name_list = [\"coding\", \"for\", \"data\", \"analysts\"]\n",
        "\n",
        "for item in name_list:\n",
        "  print(item)"
      ],
      "metadata": {
        "colab": {
          "base_uri": "https://localhost:8080/"
        },
        "id": "eG4cTnHnh-_k",
        "outputId": "fe0d497e-1c34-42cd-a1b3-f6e13d16a218"
      },
      "execution_count": 41,
      "outputs": [
        {
          "output_type": "stream",
          "name": "stdout",
          "text": [
            "coding\n",
            "for\n",
            "data\n",
            "analysts\n"
          ]
        }
      ]
    },
    {
      "cell_type": "code",
      "source": [
        "import math"
      ],
      "metadata": {
        "id": "dBao8EWK43-m"
      },
      "execution_count": 3,
      "outputs": []
    },
    {
      "cell_type": "code",
      "source": [
        "# Question 7\n",
        "# To import the math module, simply type <import math> with an optional alias\n",
        "# To confirm the import, you can optionally use <help('modules')> for a list of locally-installed modules\n",
        "math.sqrt(16)"
      ],
      "metadata": {
        "colab": {
          "base_uri": "https://localhost:8080/"
        },
        "id": "lrsmdBHDrQ01",
        "outputId": "c714105c-3e90-4198-9df1-f0afabc7f0e3"
      },
      "execution_count": 11,
      "outputs": [
        {
          "output_type": "execute_result",
          "data": {
            "text/plain": [
              "4.0"
            ]
          },
          "metadata": {},
          "execution_count": 11
        }
      ]
    }
  ]
}