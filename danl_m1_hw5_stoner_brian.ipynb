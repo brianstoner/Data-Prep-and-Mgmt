{
  "nbformat": 4,
  "nbformat_minor": 0,
  "metadata": {
    "colab": {
      "provenance": [],
      "authorship_tag": "ABX9TyOZvIZX3V0QJr+HWL8Qs/fC",
      "include_colab_link": true
    },
    "kernelspec": {
      "name": "python3",
      "display_name": "Python 3"
    },
    "language_info": {
      "name": "python"
    }
  },
  "cells": [
    {
      "cell_type": "markdown",
      "metadata": {
        "id": "view-in-github",
        "colab_type": "text"
      },
      "source": [
        "<a href=\"https://colab.research.google.com/github/brianstoner/Data-Prep-and-Mgmt/blob/main/danl_m1_hw5_stoner_brian.ipynb\" target=\"_parent\"><img src=\"https://colab.research.google.com/assets/colab-badge.svg\" alt=\"Open In Colab\"/></a>"
      ]
    },
    {
      "cell_type": "code",
      "execution_count": 22,
      "metadata": {
        "id": "cvRdFzIIN829"
      },
      "outputs": [],
      "source": [
        "import pandas as pd"
      ]
    },
    {
      "cell_type": "code",
      "source": [
        "fao = pd.read_csv(\"https://bcdanl.github.io/data/fao_stat.csv\",\n",
        "                  encoding = 'ISO-8859-1')"
      ],
      "metadata": {
        "id": "WAsgsjK3O8Qc"
      },
      "execution_count": 23,
      "outputs": []
    },
    {
      "cell_type": "code",
      "source": [
        "from google.colab import data_table\n",
        "data_table.enable_dataframe_formatter()"
      ],
      "metadata": {
        "id": "yioUf2nhO-0K"
      },
      "execution_count": 24,
      "outputs": []
    },
    {
      "cell_type": "markdown",
      "source": [
        "### Question 1\n",
        "- *What percentage of the values is missing for each variable?*"
      ],
      "metadata": {
        "id": "mgzP1Oq4OWwp"
      }
    },
    {
      "cell_type": "code",
      "source": [
        "# Here we can use the isnull method of the dataframe to calculate the percentage of null values in each variable\n",
        "# To verify the results, fao.info() will display both the total observations and non-null counts\n",
        "# For example, sanitation_service has 1772 non-null values of the 1854 total entries, which gives us 82 null entries\n",
        "# 82 / 1854 = 4.42 %\n",
        "fao.info()\n",
        "print(' ')\n",
        "round((fao.isnull().mean() * 100), 2)"
      ],
      "metadata": {
        "colab": {
          "base_uri": "https://localhost:8080/"
        },
        "id": "hVo4Ri23OfqF",
        "outputId": "222f8e32-dbae-438c-bb73-2e61f0f3b8f0"
      },
      "execution_count": 31,
      "outputs": [
        {
          "output_type": "stream",
          "name": "stdout",
          "text": [
            "<class 'pandas.core.frame.DataFrame'>\n",
            "RangeIndex: 1854 entries, 0 to 1853\n",
            "Data columns (total 9 columns):\n",
            " #   Column               Non-Null Count  Dtype  \n",
            "---  ------               --------------  -----  \n",
            " 0   SSA                  1854 non-null   bool   \n",
            " 1   Area                 1854 non-null   object \n",
            " 2   Year                 1854 non-null   int64  \n",
            " 3   gdp_per_capita       1698 non-null   float64\n",
            " 4   drinking_water       1780 non-null   float64\n",
            " 5   sanitation_service   1772 non-null   float64\n",
            " 6   children_stunted     1404 non-null   float64\n",
            " 7   children_overweight  1404 non-null   float64\n",
            " 8   investment_pct       1791 non-null   float64\n",
            "dtypes: bool(1), float64(6), int64(1), object(1)\n",
            "memory usage: 117.8+ KB\n",
            " \n"
          ]
        },
        {
          "output_type": "execute_result",
          "data": {
            "text/plain": [
              "SSA                     0.00\n",
              "Area                    0.00\n",
              "Year                    0.00\n",
              "gdp_per_capita          8.41\n",
              "drinking_water          3.99\n",
              "sanitation_service      4.42\n",
              "children_stunted       24.27\n",
              "children_overweight    24.27\n",
              "investment_pct          3.40\n",
              "dtype: float64"
            ]
          },
          "metadata": {},
          "execution_count": 31
        }
      ]
    },
    {
      "cell_type": "code",
      "source": [],
      "metadata": {
        "id": "VWW-OsScn2yB"
      },
      "execution_count": null,
      "outputs": []
    }
  ]
}