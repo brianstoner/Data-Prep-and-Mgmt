{
  "nbformat": 4,
  "nbformat_minor": 0,
  "metadata": {
    "colab": {
      "provenance": [],
      "authorship_tag": "ABX9TyOG3+YbGfrj5GKbvArOSDdA",
      "include_colab_link": true
    },
    "kernelspec": {
      "name": "python3",
      "display_name": "Python 3"
    },
    "language_info": {
      "name": "python"
    }
  },
  "cells": [
    {
      "cell_type": "markdown",
      "metadata": {
        "id": "view-in-github",
        "colab_type": "text"
      },
      "source": [
        "<a href=\"https://colab.research.google.com/github/brianstoner/Data-Prep-and-Mgmt/blob/main/Lecture_1.ipynb\" target=\"_parent\"><img src=\"https://colab.research.google.com/assets/colab-badge.svg\" alt=\"Open In Colab\"/></a>"
      ]
    },
    {
      "cell_type": "code",
      "source": [
        "round((2 ** 5) / 7 * (4 - 2 ** 3), 2)"
      ],
      "metadata": {
        "colab": {
          "base_uri": "https://localhost:8080/"
        },
        "id": "AYQqng1_O0RV",
        "outputId": "4dd47287-0786-42cf-dfa4-3f0c6484b7f7"
      },
      "execution_count": 68,
      "outputs": [
        {
          "output_type": "execute_result",
          "data": {
            "text/plain": [
              "-18.29"
            ]
          },
          "metadata": {},
          "execution_count": 68
        }
      ]
    },
    {
      "cell_type": "code",
      "source": [
        "#20 == '20' # false because int 20 doesn't equal string 20\n",
        "x = 4.0\n",
        "y = .5\n",
        "x < y or 3*y < x # the first condition evaluates false (4 !< .5), but second evaluates true (1.5 < 4)\n"
      ],
      "metadata": {
        "colab": {
          "base_uri": "https://localhost:8080/"
        },
        "id": "L3mrXDM4krk6",
        "outputId": "a2ae3fe4-b829-4b8e-e33a-2ec95405c312"
      },
      "execution_count": 1,
      "outputs": [
        {
          "output_type": "execute_result",
          "data": {
            "text/plain": [
              "True"
            ]
          },
          "metadata": {},
          "execution_count": 1
        }
      ]
    },
    {
      "cell_type": "markdown",
      "source": [
        "2nd exercise"
      ],
      "metadata": {
        "id": "2zJ8SfXvATuX"
      }
    },
    {
      "cell_type": "code",
      "source": [
        "fare = \"$10.00\"\n",
        "fare1 = (fare[1:3])\n",
        "convertedfare = int(fare1)\n",
        "tip = \"2.00$\"\n",
        "tip1 = (tip[:1])\n",
        "convertedtip = int(tip1)\n",
        "tax = \"$ 0.80\"\n",
        "tax1 = (tax[3:])\n",
        "convertedtax = float(tax1)\n",
        "\n",
        "\n",
        "print(\"The total trip cost is: \", convertedfare + convertedtip + convertedtax)\n",
        "\n",
        "\n"
      ],
      "metadata": {
        "colab": {
          "base_uri": "https://localhost:8080/"
        },
        "id": "tmaoRkCwluNL",
        "outputId": "f2e79b99-aa64-42c8-cb6c-7f8703f856f1"
      },
      "execution_count": 172,
      "outputs": [
        {
          "output_type": "stream",
          "name": "stdout",
          "text": [
            "The total trip cost is:  12.8\n"
          ]
        }
      ]
    },
    {
      "cell_type": "code",
      "execution_count": 148,
      "metadata": {
        "colab": {
          "base_uri": "https://localhost:8080/"
        },
        "id": "vT74mEhG-rTM",
        "outputId": "dd5b359d-23a3-4bd0-8eb2-23453399018d"
      },
      "outputs": [
        {
          "output_type": "stream",
          "name": "stdout",
          "text": [
            "The largest value in the list is: 1000\n"
          ]
        }
      ],
      "source": [
        "list_variable = [100, 144, 169, 1000, 8]\n",
        "\n",
        "print (\"The largest value in the list is:\", max(list_variable))\n"
      ]
    },
    {
      "cell_type": "code",
      "source": [
        "# import pandas as pd\n"
      ],
      "metadata": {
        "colab": {
          "base_uri": "https://localhost:8080/"
        },
        "id": "eSCHugDoF96D",
        "outputId": "3a9cd7ea-8c55-499d-d4f5-7d8bf2bcbc36"
      },
      "execution_count": 21,
      "outputs": [
        {
          "output_type": "stream",
          "name": "stdout",
          "text": [
            "this is an example of string concatenation\n"
          ]
        }
      ]
    },
    {
      "cell_type": "code",
      "source": [
        "name_list = [\"Fred\", \"Ben\", \"Joe\", \"Mama\"]\n",
        "for name in name_list:\n",
        "  print(name)"
      ],
      "metadata": {
        "colab": {
          "base_uri": "https://localhost:8080/"
        },
        "id": "z4LCSejuO6DF",
        "outputId": "fa36ea13-0a53-4926-d9f7-62d983c7ba26"
      },
      "execution_count": 40,
      "outputs": [
        {
          "output_type": "stream",
          "name": "stdout",
          "text": [
            "Fred\n",
            "Ben\n",
            "Joe\n",
            "Mama\n"
          ]
        }
      ]
    },
    {
      "cell_type": "code",
      "source": [
        "cities_to_temps = {\"Paris\": 28, \"London\": 22, \"Seville\": 36, \"Wellesley\": 29}\n",
        "\n",
        "cities_to_temps.items()\n"
      ],
      "metadata": {
        "colab": {
          "base_uri": "https://localhost:8080/"
        },
        "id": "mHVtHFoIS9xg",
        "outputId": "915c7e76-9219-470c-dc39-4599ccf793a1"
      },
      "execution_count": 44,
      "outputs": [
        {
          "output_type": "execute_result",
          "data": {
            "text/plain": [
              "dict_items([('Paris', 28), ('London', 22), ('Seville', 36), ('Wellesley', 29)])"
            ]
          },
          "metadata": {},
          "execution_count": 44
        }
      ]
    },
    {
      "cell_type": "code",
      "source": [
        "x = (\"hello world\")\n",
        "x[::2]"
      ],
      "metadata": {
        "colab": {
          "base_uri": "https://localhost:8080/",
          "height": 35
        },
        "id": "62hmd6pBUrtg",
        "outputId": "9aacb316-a3b9-4cd6-d894-b45e55c2072f"
      },
      "execution_count": 56,
      "outputs": [
        {
          "output_type": "execute_result",
          "data": {
            "text/plain": [
              "'hlowrd'"
            ],
            "application/vnd.google.colaboratory.intrinsic+json": {
              "type": "string"
            }
          },
          "metadata": {},
          "execution_count": 56
        }
      ]
    },
    {
      "cell_type": "code",
      "source": [
        "list_example = ['one', 'two', 'three']\n",
        "list_example[ 0 : 1 ]\n",
        "# list_example[ 1 : 3 ]"
      ],
      "metadata": {
        "colab": {
          "base_uri": "https://localhost:8080/"
        },
        "id": "0WubYrAgaT8_",
        "outputId": "e57b2e92-498c-4906-96e9-3388b460afb7"
      },
      "execution_count": 60,
      "outputs": [
        {
          "output_type": "execute_result",
          "data": {
            "text/plain": [
              "['one']"
            ]
          },
          "metadata": {},
          "execution_count": 60
        }
      ]
    },
    {
      "cell_type": "code",
      "source": [
        "suny = ['Geneseo', 'Brockport', 'Oswego', 'Binghamton',\n",
        "        'Stony Brook', 'New Paltz']\n",
        "suny[3:5]"
      ],
      "metadata": {
        "colab": {
          "base_uri": "https://localhost:8080/"
        },
        "id": "j5R3Y9zGcQZv",
        "outputId": "7bd517bb-6445-41cd-cc35-de3c2198b253"
      },
      "execution_count": 64,
      "outputs": [
        {
          "output_type": "execute_result",
          "data": {
            "text/plain": [
              "['Binghamton', 'Stony Brook']"
            ]
          },
          "metadata": {},
          "execution_count": 64
        }
      ]
    },
    {
      "cell_type": "code",
      "source": [
        "int(\"20\")"
      ],
      "metadata": {
        "colab": {
          "base_uri": "https://localhost:8080/"
        },
        "id": "Rbia-cWDc4fH",
        "outputId": "725252ac-f9ea-4751-bac7-72bc812b557b"
      },
      "execution_count": 65,
      "outputs": [
        {
          "output_type": "execute_result",
          "data": {
            "text/plain": [
              "20"
            ]
          },
          "metadata": {},
          "execution_count": 65
        }
      ]
    }
  ]
}