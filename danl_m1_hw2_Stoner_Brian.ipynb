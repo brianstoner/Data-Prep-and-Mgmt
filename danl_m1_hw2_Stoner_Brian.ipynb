{
  "nbformat": 4,
  "nbformat_minor": 0,
  "metadata": {
    "colab": {
      "provenance": [],
      "authorship_tag": "ABX9TyNz5+swUqEfn4qc1O/cdqA9",
      "include_colab_link": true
    },
    "kernelspec": {
      "name": "python3",
      "display_name": "Python 3"
    },
    "language_info": {
      "name": "python"
    }
  },
  "cells": [
    {
      "cell_type": "markdown",
      "metadata": {
        "id": "view-in-github",
        "colab_type": "text"
      },
      "source": [
        "<a href=\"https://colab.research.google.com/github/brianstoner/Data-Prep-and-Mgmt/blob/main/danl_m1_hw2_Stoner_Brian.ipynb\" target=\"_parent\"><img src=\"https://colab.research.google.com/assets/colab-badge.svg\" alt=\"Open In Colab\"/></a>"
      ]
    },
    {
      "cell_type": "code",
      "source": [
        "import pandas as pd"
      ],
      "metadata": {
        "id": "XbyS93tQXG0O"
      },
      "execution_count": null,
      "outputs": []
    },
    {
      "cell_type": "code",
      "source": [
        "nhl = pd.read_csv('https://bcdanl.github.io/data/NHL-1617.csv')\n",
        "nhl"
      ],
      "metadata": {
        "id": "Wu4ZotW5XOSt"
      },
      "execution_count": null,
      "outputs": []
    },
    {
      "cell_type": "code",
      "source": [
        "# Question 1 - How many players had at least some ice time?\n",
        "# Examine the non-null values present in the variables\n",
        "ice_time_count = nhl[ 'TOI' ].count()\n",
        "# Sort the result set ascending to ensure there are no values of 0, indicating no ice time for a player\n",
        "# nhl.sort_values(['TOI'], ascending = True)\n",
        "print(ice_time_count, 'players had some ice time' )"
      ],
      "metadata": {
        "colab": {
          "base_uri": "https://localhost:8080/"
        },
        "id": "nyHoQ9JNdkQz",
        "outputId": "de1d1898-6a42-4c22-85c2-11526e3e1c5e"
      },
      "execution_count": 4,
      "outputs": [
        {
          "output_type": "stream",
          "name": "stdout",
          "text": [
            "888 players had some ice time\n"
          ]
        }
      ]
    },
    {
      "cell_type": "code",
      "source": [
        "# Question 2 - Who is the top scorer in terms of goals?\n",
        "# The top scorer can be determined by sorting the goal variable ('G') in DESC order\n",
        "nhl.sort_values(by = ['G'], ascending = False)"
      ],
      "metadata": {
        "id": "_77IvvnanYK8"
      },
      "execution_count": null,
      "outputs": []
    },
    {
      "cell_type": "code",
      "source": [
        "# Question 3 - How can we count the number of NHL players for each country?\n",
        "# Count the number of occurrences for each unique value in the variable ('Cntry')\n",
        "nhl[ 'Cntry' ].value_counts()"
      ],
      "metadata": {
        "id": "_kZg-0lh5Ipo"
      },
      "execution_count": null,
      "outputs": []
    },
    {
      "cell_type": "code",
      "source": [
        "# Question 4 - How many unique countries are in nfl.csv?\n"
      ],
      "metadata": {
        "id": "0DVupjv8-QGl"
      },
      "execution_count": null,
      "outputs": []
    },
    {
      "cell_type": "code",
      "source": [
        "# Question 5 - Which three nationalities have the highest number of players?\n"
      ],
      "metadata": {
        "id": "ylreRbvk_6nZ"
      },
      "execution_count": null,
      "outputs": []
    }
  ]
}