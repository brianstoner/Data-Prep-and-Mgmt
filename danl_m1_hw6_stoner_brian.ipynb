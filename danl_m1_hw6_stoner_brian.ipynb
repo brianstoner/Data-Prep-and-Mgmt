{
  "nbformat": 4,
  "nbformat_minor": 0,
  "metadata": {
    "colab": {
      "provenance": [],
      "authorship_tag": "ABX9TyMGbe7N3iTeSiXbXPRiLuHw",
      "include_colab_link": true
    },
    "kernelspec": {
      "name": "python3",
      "display_name": "Python 3"
    },
    "language_info": {
      "name": "python"
    }
  },
  "cells": [
    {
      "cell_type": "markdown",
      "metadata": {
        "id": "view-in-github",
        "colab_type": "text"
      },
      "source": [
        "<a href=\"https://colab.research.google.com/github/brianstoner/Data-Prep-and-Mgmt/blob/main/danl_m1_hw6_stoner_brian.ipynb\" target=\"_parent\"><img src=\"https://colab.research.google.com/assets/colab-badge.svg\" alt=\"Open In Colab\"/></a>"
      ]
    },
    {
      "cell_type": "code",
      "execution_count": 33,
      "metadata": {
        "id": "u36R_dWNE6UW"
      },
      "outputs": [],
      "source": [
        "import pandas as pd"
      ]
    },
    {
      "cell_type": "code",
      "source": [
        "pd.set_option('display.max_rows', None)"
      ],
      "metadata": {
        "id": "NJAQsUcqnBHC"
      },
      "execution_count": 34,
      "outputs": []
    },
    {
      "cell_type": "code",
      "source": [
        "path = 'https://bcdanl.github.io/data/climate_finance.csv'\n",
        "climate_finance = pd.read_csv(path)"
      ],
      "metadata": {
        "id": "raRh2lxVFAoC"
      },
      "execution_count": 35,
      "outputs": []
    },
    {
      "cell_type": "code",
      "source": [
        "from google.colab import data_table\n",
        "data_table.enable_dataframe_formatter()"
      ],
      "metadata": {
        "id": "D5x7rqXNRnnU"
      },
      "execution_count": 36,
      "outputs": []
    },
    {
      "cell_type": "markdown",
      "source": [
        "### Question 1\n",
        "- *For each party, calculate the total funding contributions that were disbursed or provided for mitigation projects for each year.*"
      ],
      "metadata": {
        "id": "CGfBToitGDS0"
      }
    },
    {
      "cell_type": "code",
      "source": [
        "# Cast the Contribution variable as integer to convert any exponential notation\n",
        "climate_finance['Contribution'] = climate_finance['Contribution'].astype('int64')\n",
        "# Combine multiple conditions to filter observations\n",
        "filtered_df = climate_finance.loc[(climate_finance['Status'] == 'provided') | (climate_finance['Status'] == 'disbursed') & (climate_finance['Type of support'] == 'mitigation')]\n",
        "sub_df = filtered_df\n",
        "# Perform groupby operation by party and year and aggregate the total funding contribution on the filtered dataframe\n",
        "aggregated_df = sub_df.groupby(['Party', 'Year']).agg(Total_Funding=('Contribution', 'sum'))\n",
        "aggregated_df\n"
      ],
      "metadata": {
        "id": "F_SuFVv24vKL"
      },
      "execution_count": null,
      "outputs": []
    },
    {
      "cell_type": "markdown",
      "source": [
        "### Question 2\n",
        "- *How many parties have provided positive funding contributions to other countries or regions for their adaptation projects for every single year from 2011 to 2018?*"
      ],
      "metadata": {
        "id": "mwOdfsvRJ7b6"
      }
    },
    {
      "cell_type": "code",
      "source": [
        "# Verify the total number of unique years in the dataframe\n",
        "total_years = climate_finance['Year'].nunique()\n",
        "# Filter the dataframe by 'status' for funding statuses and 'type of support'\n",
        "statuses_to_keep = ['provided', 'disbursed']\n",
        "filtered_df = climate_finance[climate_finance['Status'].isin(statuses_to_keep) & (climate_finance['Type of support'] == 'adaptation')]\n",
        "\n",
        "# Group by party and only keep those countries that appear in every year\n",
        "regions_in_all_years = filtered_df.groupby('Party').filter(lambda x: x['Year'].nunique() == total_years)\n",
        "# Display the results as a list or series\n",
        "# We can see that 8 parties met the criteria in the question\n",
        "print(regions_in_all_years['Party'].unique())\n",
        "# print(regions_in_all_years['Party'].value_counts())"
      ],
      "metadata": {
        "id": "q-BOikRrLByp",
        "colab": {
          "base_uri": "https://localhost:8080/"
        },
        "outputId": "b2416fca-3c43-4fc5-ede5-8bccaf1d7a6f"
      },
      "execution_count": 77,
      "outputs": [
        {
          "output_type": "stream",
          "name": "stdout",
          "text": [
            "['Canada' 'Iceland' 'Ireland' 'Netherlands' 'New Zealand' 'Portugal'\n",
            " 'Slovakia' 'Switzerland']\n"
          ]
        }
      ]
    },
    {
      "cell_type": "code",
      "source": [
        "total_years = climate_finance['Year'].nunique()\n",
        "df_filtered = df.groupby('Party').filter(lambda x: x['Year'].nunique() == total_years)\n",
        "print(df_filtered)\n",
        "#df_filtered = climate_finance"
      ],
      "metadata": {
        "id": "wKVOpyNHWLxR"
      },
      "execution_count": null,
      "outputs": []
    },
    {
      "cell_type": "code",
      "source": [
        "Australia = climate_finance['Party'] == 'Australia'\n",
        "climate_finance[ Australia ]"
      ],
      "metadata": {
        "id": "G_rFDPBLKo39"
      },
      "execution_count": null,
      "outputs": []
    },
    {
      "cell_type": "code",
      "source": [],
      "metadata": {
        "id": "3MeVSbXxR2rk"
      },
      "execution_count": null,
      "outputs": []
    }
  ]
}