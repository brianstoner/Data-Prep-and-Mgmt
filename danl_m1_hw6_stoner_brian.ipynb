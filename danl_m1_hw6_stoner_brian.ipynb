{
  "nbformat": 4,
  "nbformat_minor": 0,
  "metadata": {
    "colab": {
      "provenance": [],
      "authorship_tag": "ABX9TyMlOTUd8vZ1RXhDSWE3LoVn",
      "include_colab_link": true
    },
    "kernelspec": {
      "name": "python3",
      "display_name": "Python 3"
    },
    "language_info": {
      "name": "python"
    }
  },
  "cells": [
    {
      "cell_type": "markdown",
      "metadata": {
        "id": "view-in-github",
        "colab_type": "text"
      },
      "source": [
        "<a href=\"https://colab.research.google.com/github/brianstoner/Data-Prep-and-Mgmt/blob/main/danl_m1_hw6_stoner_brian.ipynb\" target=\"_parent\"><img src=\"https://colab.research.google.com/assets/colab-badge.svg\" alt=\"Open In Colab\"/></a>"
      ]
    },
    {
      "cell_type": "code",
      "execution_count": 1,
      "metadata": {
        "id": "u36R_dWNE6UW"
      },
      "outputs": [],
      "source": [
        "import pandas as pd"
      ]
    },
    {
      "cell_type": "code",
      "source": [
        "path = 'https://bcdanl.github.io/data/climate_finance.csv'\n",
        "climate_finance = pd.read_csv(path)"
      ],
      "metadata": {
        "id": "raRh2lxVFAoC"
      },
      "execution_count": 2,
      "outputs": []
    },
    {
      "cell_type": "code",
      "source": [
        "from google.colab import data_table\n",
        "data_table.enable_dataframe_formatter()"
      ],
      "metadata": {
        "id": "D5x7rqXNRnnU"
      },
      "execution_count": 37,
      "outputs": []
    },
    {
      "cell_type": "markdown",
      "source": [
        "### Question 1\n",
        "- *For each party, calculate the total funding contributions that were disbursed or provided for mitigation projects for each year.*"
      ],
      "metadata": {
        "id": "CGfBToitGDS0"
      }
    },
    {
      "cell_type": "code",
      "source": [
        "# Convert the 'contribution' datatype to avoid exponential notation\n",
        "climate_finance['Contribution'] = climate_finance['Contribution'].astype('int64')\n",
        "df = climate_finance.groupby(['Party', 'Year'])['Contribution']\n",
        "df.sum()\n",
        "#funding.size()\n",
        "#len(funding)\n",
        "#funding.groups\n"
      ],
      "metadata": {
        "colab": {
          "base_uri": "https://localhost:8080/"
        },
        "id": "dVRQ9WLfGMSU",
        "outputId": "c9b84580-279e-4c68-9c9d-0049fc15a948"
      },
      "execution_count": 41,
      "outputs": [
        {
          "output_type": "execute_result",
          "data": {
            "text/plain": [
              "Party                     Year\n",
              "Australia                 2013       8288000\n",
              "                          2014       9846000\n",
              "Austria                   2015     190972091\n",
              "                          2016     182967045\n",
              "                          2017     135894062\n",
              "                                     ...    \n",
              "United States of America  2014    1055341541\n",
              "                          2015    1211856500\n",
              "                          2016     927284700\n",
              "                          2017     920830000\n",
              "                          2018     554853000\n",
              "Name: Contribution, Length: 176, dtype: int64"
            ]
          },
          "metadata": {},
          "execution_count": 41
        }
      ]
    },
    {
      "cell_type": "code",
      "source": [
        "Australia = climate_finance['Party'] == 'Australia'\n",
        "climate_finance[ Australia ]"
      ],
      "metadata": {
        "id": "G_rFDPBLKo39"
      },
      "execution_count": null,
      "outputs": []
    },
    {
      "cell_type": "code",
      "source": [],
      "metadata": {
        "id": "Z11Xak5dZF17"
      },
      "execution_count": null,
      "outputs": []
    }
  ]
}