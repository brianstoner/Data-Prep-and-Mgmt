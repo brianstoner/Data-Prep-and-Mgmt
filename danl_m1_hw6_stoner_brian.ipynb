{
  "nbformat": 4,
  "nbformat_minor": 0,
  "metadata": {
    "colab": {
      "provenance": [],
      "authorship_tag": "ABX9TyO34OIrm5eWgIDLn0djuyn1",
      "include_colab_link": true
    },
    "kernelspec": {
      "name": "python3",
      "display_name": "Python 3"
    },
    "language_info": {
      "name": "python"
    }
  },
  "cells": [
    {
      "cell_type": "markdown",
      "metadata": {
        "id": "view-in-github",
        "colab_type": "text"
      },
      "source": [
        "<a href=\"https://colab.research.google.com/github/brianstoner/Data-Prep-and-Mgmt/blob/main/danl_m1_hw6_stoner_brian.ipynb\" target=\"_parent\"><img src=\"https://colab.research.google.com/assets/colab-badge.svg\" alt=\"Open In Colab\"/></a>"
      ]
    },
    {
      "cell_type": "code",
      "execution_count": 42,
      "metadata": {
        "id": "u36R_dWNE6UW"
      },
      "outputs": [],
      "source": [
        "import pandas as pd"
      ]
    },
    {
      "cell_type": "code",
      "source": [
        "pd.set_option('display.max_rows', None)"
      ],
      "metadata": {
        "id": "NJAQsUcqnBHC"
      },
      "execution_count": 82,
      "outputs": []
    },
    {
      "cell_type": "code",
      "source": [
        "path = 'https://bcdanl.github.io/data/climate_finance.csv'\n",
        "climate_finance = pd.read_csv(path)"
      ],
      "metadata": {
        "id": "raRh2lxVFAoC"
      },
      "execution_count": 43,
      "outputs": []
    },
    {
      "cell_type": "code",
      "source": [
        "from google.colab import data_table\n",
        "data_table.enable_dataframe_formatter()"
      ],
      "metadata": {
        "id": "D5x7rqXNRnnU"
      },
      "execution_count": 44,
      "outputs": []
    },
    {
      "cell_type": "markdown",
      "source": [
        "### Question 1\n",
        "- *For each party, calculate the total funding contributions that were disbursed or provided for mitigation projects for each year.*"
      ],
      "metadata": {
        "id": "CGfBToitGDS0"
      }
    },
    {
      "cell_type": "code",
      "source": [
        "df = climate_finance[ ['Party', 'Year', 'Contribution'] ]\n",
        "# Convert the 'contribution' datatype to avoid exponential notation in the output\n",
        "climate_finance['Contribution'] = climate_finance['Contribution'].astype('int64')\n",
        "# Group by multiple variables and sum the contribution by year and party\n",
        "funding_contribution = df.groupby(['Party', 'Year'])['Contribution']\n",
        "funding_contribution.sum()\n"
      ],
      "metadata": {
        "id": "dVRQ9WLfGMSU"
      },
      "execution_count": null,
      "outputs": []
    },
    {
      "cell_type": "code",
      "source": [
        "Australia = climate_finance['Party'] == 'Australia'\n",
        "climate_finance[ Australia ]"
      ],
      "metadata": {
        "id": "G_rFDPBLKo39"
      },
      "execution_count": null,
      "outputs": []
    }
  ]
}