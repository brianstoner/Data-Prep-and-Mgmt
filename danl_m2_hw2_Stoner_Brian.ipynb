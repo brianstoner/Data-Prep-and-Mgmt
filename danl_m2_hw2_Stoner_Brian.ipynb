{
  "nbformat": 4,
  "nbformat_minor": 0,
  "metadata": {
    "colab": {
      "provenance": [],
      "authorship_tag": "ABX9TyPK14ra5fltk1MPxZFrZW6/",
      "include_colab_link": true
    },
    "kernelspec": {
      "name": "python3",
      "display_name": "Python 3"
    },
    "language_info": {
      "name": "python"
    }
  },
  "cells": [
    {
      "cell_type": "markdown",
      "metadata": {
        "id": "view-in-github",
        "colab_type": "text"
      },
      "source": [
        "<a href=\"https://colab.research.google.com/github/brianstoner/Data-Prep-and-Mgmt/blob/main/danl_m2_hw2_Stoner_Brian.ipynb\" target=\"_parent\"><img src=\"https://colab.research.google.com/assets/colab-badge.svg\" alt=\"Open In Colab\"/></a>"
      ]
    },
    {
      "cell_type": "code",
      "execution_count": 1,
      "metadata": {
        "id": "4jTSb0uZ_R8X"
      },
      "outputs": [],
      "source": [
        "import pandas as pd"
      ]
    },
    {
      "cell_type": "code",
      "source": [
        "import numpy as np"
      ],
      "metadata": {
        "id": "bBVPzvy4BoTA"
      },
      "execution_count": 2,
      "outputs": []
    },
    {
      "cell_type": "code",
      "source": [
        "# Question 1a\n",
        "#\n",
        "a = [0.1, 1.2, 2.3, 3.4, 4.5]\n",
        "arr = np.array(a)\n",
        "print(\"List is: \", a)\n",
        "print(\"Array is: \", arr)"
      ],
      "metadata": {
        "colab": {
          "base_uri": "https://localhost:8080/"
        },
        "id": "Ngv1nCOTBrzJ",
        "outputId": "5f200066-0cbc-4d7c-930b-d10ddd5f038e"
      },
      "execution_count": 12,
      "outputs": [
        {
          "output_type": "stream",
          "name": "stdout",
          "text": [
            "List is:  [0.1, 1.2, 2.3, 3.4, 4.5]\n",
            "Array is:  [0.1 1.2 2.3 3.4 4.5]\n"
          ]
        }
      ]
    },
    {
      "cell_type": "code",
      "source": [],
      "metadata": {
        "id": "TuUeP3sUCnNO"
      },
      "execution_count": null,
      "outputs": []
    }
  ]
}