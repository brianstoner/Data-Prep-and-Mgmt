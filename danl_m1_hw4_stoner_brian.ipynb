{
  "nbformat": 4,
  "nbformat_minor": 0,
  "metadata": {
    "colab": {
      "provenance": [],
      "authorship_tag": "ABX9TyMgouLJa625d391OQ0SjntC",
      "include_colab_link": true
    },
    "kernelspec": {
      "name": "python3",
      "display_name": "Python 3"
    },
    "language_info": {
      "name": "python"
    }
  },
  "cells": [
    {
      "cell_type": "markdown",
      "metadata": {
        "id": "view-in-github",
        "colab_type": "text"
      },
      "source": [
        "<a href=\"https://colab.research.google.com/github/brianstoner/Data-Prep-and-Mgmt/blob/main/danl_m1_hw4_stoner_brian.ipynb\" target=\"_parent\"><img src=\"https://colab.research.google.com/assets/colab-badge.svg\" alt=\"Open In Colab\"/></a>"
      ]
    },
    {
      "cell_type": "code",
      "execution_count": 2,
      "metadata": {
        "id": "wjpgJeFbZaN2"
      },
      "outputs": [],
      "source": [
        "import pandas as pd"
      ]
    },
    {
      "cell_type": "code",
      "source": [
        "nyc_payroll = pd.read_csv('https://bcdanl.github.io/data/nyc_payroll_2022_2023.csv')"
      ],
      "metadata": {
        "id": "aXMEbge3aSRl"
      },
      "execution_count": 3,
      "outputs": []
    },
    {
      "cell_type": "markdown",
      "source": [
        "### Question 1\n",
        "- *How many employees have a “Base Salary” within the top 10% of the DataFrame?*"
      ],
      "metadata": {
        "id": "_ptJlJ5hbDN0"
      }
    },
    {
      "cell_type": "code",
      "source": [
        "nyc_payroll.quantile(0.90, numeric_only = True)\n",
        "nyc_payroll.sort_values(['Base Salary'], ascending=False)\n",
        "between_dates = nyc_payroll[\"Base Salary\"].between(114860.500, 233094.1)\n",
        "nyc_payroll[between_dates]\n",
        "between_dates[between_dates].count()\n"
      ],
      "metadata": {
        "colab": {
          "base_uri": "https://localhost:8080/"
        },
        "id": "qvZGnwwLbB9w",
        "outputId": "71bb20b7-4081-4802-ae5f-545e2a7152d9"
      },
      "execution_count": 96,
      "outputs": [
        {
          "output_type": "execute_result",
          "data": {
            "text/plain": [
              "200"
            ]
          },
          "metadata": {},
          "execution_count": 96
        }
      ]
    },
    {
      "cell_type": "code",
      "source": [
        "\n",
        "# nyc_payroll['Base Salary'].quantile(0.90)\n",
        "nyc_payroll.value_counts()\n",
        "\n"
      ],
      "metadata": {
        "id": "j8PG7VZ6b7T-"
      },
      "execution_count": null,
      "outputs": []
    },
    {
      "cell_type": "markdown",
      "source": [
        "### Question 2\n",
        "- *Filter the DataFrame for employees who have “OT Hours” greater than 0 but less than 100, and their “Leave Status as of June 30” is “ACTIVE”.*"
      ],
      "metadata": {
        "id": "mI8eegoEenZU"
      }
    },
    {
      "cell_type": "code",
      "source": [
        "# We can filter with the query method and pass in each condition as an argument\n",
        "# This simplifies the code, compared to using a boolean series for the conditions\n",
        "emp = nyc_payroll.query(\"`OT Hours` > 0 & `OT Hours` < 90 & `Leave Status as of June 30` == 'ACTIVE'\")\n",
        "emp.sort_values(['OT Hours'], ascending=True)\n"
      ],
      "metadata": {
        "id": "9Heg0vy4e2uz"
      },
      "execution_count": null,
      "outputs": []
    },
    {
      "cell_type": "markdown",
      "source": [
        "### Question 3\n",
        "- *Find the unique job titles in the “DEPARTMENT OF EDUCATION ADMIN” agency and count how many there are.*"
      ],
      "metadata": {
        "id": "-amZHbmBq5JW"
      }
    },
    {
      "cell_type": "code",
      "source": [
        "# Filter the dataframe to include only observations with the agency name of 'DEPARTMENT OF EDUCATION ADMIN'\n",
        "name = nyc_payroll['Agency Name'] == 'DEPARTMENT OF EDUCATION ADMIN'\n",
        "df = nyc_payroll[name]\n",
        "# In the filtered dataframe, drop duplicates and count the unique values in 'Title Description' variable\n",
        "unique_df = df.drop_duplicates(subset = ['Title Description'])\n",
        "output = unique_df['Title Description'].nunique()\n",
        "print('There are',output, 'unique job titles')\n",
        "# We can also verify the result by uncommenting the code below and viewing the 26 unique title descriptions\n",
        "# unique_df['Title Description'].value_counts()\n"
      ],
      "metadata": {
        "colab": {
          "base_uri": "https://localhost:8080/"
        },
        "id": "gJkhXDjHq-3q",
        "outputId": "062cab41-eb8a-4b35-eeab-81dc6a8c62de"
      },
      "execution_count": 91,
      "outputs": [
        {
          "output_type": "stream",
          "name": "stdout",
          "text": [
            "There are 26 unique job titles\n"
          ]
        }
      ]
    },
    {
      "cell_type": "code",
      "source": [],
      "metadata": {
        "id": "1x-hIKsuzwjI"
      },
      "execution_count": null,
      "outputs": []
    }
  ]
}