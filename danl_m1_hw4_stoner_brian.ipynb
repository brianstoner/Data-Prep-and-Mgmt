{
  "nbformat": 4,
  "nbformat_minor": 0,
  "metadata": {
    "colab": {
      "provenance": [],
      "authorship_tag": "ABX9TyNnNRXPx0teWfanxc7J+/18",
      "include_colab_link": true
    },
    "kernelspec": {
      "name": "python3",
      "display_name": "Python 3"
    },
    "language_info": {
      "name": "python"
    }
  },
  "cells": [
    {
      "cell_type": "markdown",
      "metadata": {
        "id": "view-in-github",
        "colab_type": "text"
      },
      "source": [
        "<a href=\"https://colab.research.google.com/github/brianstoner/Data-Prep-and-Mgmt/blob/main/danl_m1_hw4_stoner_brian.ipynb\" target=\"_parent\"><img src=\"https://colab.research.google.com/assets/colab-badge.svg\" alt=\"Open In Colab\"/></a>"
      ]
    },
    {
      "cell_type": "code",
      "execution_count": 2,
      "metadata": {
        "id": "wjpgJeFbZaN2"
      },
      "outputs": [],
      "source": [
        "import pandas as pd"
      ]
    },
    {
      "cell_type": "code",
      "source": [
        "nyc_payroll = pd.read_csv('https://bcdanl.github.io/data/nyc_payroll_2022_2023.csv')"
      ],
      "metadata": {
        "id": "aXMEbge3aSRl"
      },
      "execution_count": 3,
      "outputs": []
    },
    {
      "cell_type": "markdown",
      "source": [
        "### Question 1\n",
        "- *How many employees have a “Base Salary” within the top 10% of the DataFrame?*"
      ],
      "metadata": {
        "id": "_ptJlJ5hbDN0"
      }
    },
    {
      "cell_type": "code",
      "source": [
        "nyc_payroll.quantile(0.90, numeric_only = True)\n",
        "nyc_payroll.sort_values(['Base Salary'], ascending=False)\n",
        "between_dates = nyc_payroll[\"Base Salary\"].between(114860.500, 233094.1)\n",
        "nyc_payroll[between_dates]\n",
        "between_dates[between_dates].count()\n"
      ],
      "metadata": {
        "colab": {
          "base_uri": "https://localhost:8080/"
        },
        "id": "qvZGnwwLbB9w",
        "outputId": "71bb20b7-4081-4802-ae5f-545e2a7152d9"
      },
      "execution_count": null,
      "outputs": [
        {
          "output_type": "execute_result",
          "data": {
            "text/plain": [
              "200"
            ]
          },
          "metadata": {},
          "execution_count": 96
        }
      ]
    },
    {
      "cell_type": "code",
      "source": [
        "\n",
        "# nyc_payroll['Base Salary'].quantile(0.90)\n",
        "nyc_payroll.value_counts()\n",
        "\n"
      ],
      "metadata": {
        "id": "j8PG7VZ6b7T-"
      },
      "execution_count": null,
      "outputs": []
    },
    {
      "cell_type": "markdown",
      "source": [
        "### Question 2\n",
        "- *Filter the DataFrame for employees who have “OT Hours” greater than 0 but less than 100, and their “Leave Status as of June 30” is “ACTIVE”.*"
      ],
      "metadata": {
        "id": "mI8eegoEenZU"
      }
    },
    {
      "cell_type": "code",
      "source": [
        "# We can filter with the query method and pass in each condition as an argument\n",
        "# This simplifies the code, compared to using a boolean series for the conditions\n",
        "emp = nyc_payroll.query(\"`OT Hours` > 0 & `OT Hours` < 90 & `Leave Status as of June 30` == 'ACTIVE'\")\n",
        "emp.sort_values(['OT Hours'], ascending=True)\n"
      ],
      "metadata": {
        "id": "9Heg0vy4e2uz"
      },
      "execution_count": null,
      "outputs": []
    },
    {
      "cell_type": "markdown",
      "source": [
        "### Question 3\n",
        "- *Find the unique job titles in the “DEPARTMENT OF EDUCATION ADMIN” agency and count how many there are.*"
      ],
      "metadata": {
        "id": "-amZHbmBq5JW"
      }
    },
    {
      "cell_type": "code",
      "source": [
        "# Filter the dataframe to include only observations with the agency name of 'DEPARTMENT OF EDUCATION ADMIN'\n",
        "name = nyc_payroll['Agency Name'] == 'DEPARTMENT OF EDUCATION ADMIN'\n",
        "df = nyc_payroll[name]\n",
        "# In the filtered dataframe, drop duplicates and count the unique values in 'Title Description' variable\n",
        "unique_df = df.drop_duplicates(subset = ['Title Description'])\n",
        "output = unique_df['Title Description'].nunique()\n",
        "print('There are',output, 'unique job titles')\n",
        "# We can also verify the result by uncommenting the code below and viewing the 26 unique title descriptions\n",
        "# unique_df['Title Description'].value_counts()\n"
      ],
      "metadata": {
        "colab": {
          "base_uri": "https://localhost:8080/"
        },
        "id": "gJkhXDjHq-3q",
        "outputId": "062cab41-eb8a-4b35-eeab-81dc6a8c62de"
      },
      "execution_count": null,
      "outputs": [
        {
          "output_type": "stream",
          "name": "stdout",
          "text": [
            "There are 26 unique job titles\n"
          ]
        }
      ]
    },
    {
      "cell_type": "markdown",
      "source": [],
      "metadata": {
        "id": "MWQy0h-Um-0U"
      }
    },
    {
      "cell_type": "markdown",
      "source": [
        "### Question 4 - Part 1\n",
        "- *Identify the employee(s) with the highest “Total OT Paid” in the DataFrame.\n",
        "Include their “First Name”, “Last Name”, and “Total OT Paid”.*"
      ],
      "metadata": {
        "id": "NynMtW6bnF-s"
      }
    },
    {
      "cell_type": "code",
      "source": [
        "# Sort the dataframe and return the top employees with the highest total OT paid\n",
        "df = nyc_payroll[ ['First Name', 'Last Name', 'Total OT Paid'] ]\n",
        "sorted_df = df.sort_values(['Total OT Paid'], ascending =False)\n",
        "sorted_df.head(5)\n"
      ],
      "metadata": {
        "colab": {
          "base_uri": "https://localhost:8080/",
          "height": 206
        },
        "id": "fl3GSdD_nHWW",
        "outputId": "5e322296-95ce-474b-87db-0226150708d8"
      },
      "execution_count": 17,
      "outputs": [
        {
          "output_type": "execute_result",
          "data": {
            "text/plain": [
              "     First Name       Last Name  Total OT Paid\n",
              "1199   EMMANUEL  KOUTSOULIDAKIS      126184.02\n",
              "1294     ROBERT         RODGERS       92892.79\n",
              "462      GLORIA          CHAVEZ       76678.61\n",
              "932         NaN             NaN       75099.43\n",
              "1840     REGINA           ADAMI       75091.43"
            ],
            "text/html": [
              "\n",
              "  <div id=\"df-85385a80-946a-4bcc-9027-bb82ac503efe\" class=\"colab-df-container\">\n",
              "    <div>\n",
              "<style scoped>\n",
              "    .dataframe tbody tr th:only-of-type {\n",
              "        vertical-align: middle;\n",
              "    }\n",
              "\n",
              "    .dataframe tbody tr th {\n",
              "        vertical-align: top;\n",
              "    }\n",
              "\n",
              "    .dataframe thead th {\n",
              "        text-align: right;\n",
              "    }\n",
              "</style>\n",
              "<table border=\"1\" class=\"dataframe\">\n",
              "  <thead>\n",
              "    <tr style=\"text-align: right;\">\n",
              "      <th></th>\n",
              "      <th>First Name</th>\n",
              "      <th>Last Name</th>\n",
              "      <th>Total OT Paid</th>\n",
              "    </tr>\n",
              "  </thead>\n",
              "  <tbody>\n",
              "    <tr>\n",
              "      <th>1199</th>\n",
              "      <td>EMMANUEL</td>\n",
              "      <td>KOUTSOULIDAKIS</td>\n",
              "      <td>126184.02</td>\n",
              "    </tr>\n",
              "    <tr>\n",
              "      <th>1294</th>\n",
              "      <td>ROBERT</td>\n",
              "      <td>RODGERS</td>\n",
              "      <td>92892.79</td>\n",
              "    </tr>\n",
              "    <tr>\n",
              "      <th>462</th>\n",
              "      <td>GLORIA</td>\n",
              "      <td>CHAVEZ</td>\n",
              "      <td>76678.61</td>\n",
              "    </tr>\n",
              "    <tr>\n",
              "      <th>932</th>\n",
              "      <td>NaN</td>\n",
              "      <td>NaN</td>\n",
              "      <td>75099.43</td>\n",
              "    </tr>\n",
              "    <tr>\n",
              "      <th>1840</th>\n",
              "      <td>REGINA</td>\n",
              "      <td>ADAMI</td>\n",
              "      <td>75091.43</td>\n",
              "    </tr>\n",
              "  </tbody>\n",
              "</table>\n",
              "</div>\n",
              "    <div class=\"colab-df-buttons\">\n",
              "\n",
              "  <div class=\"colab-df-container\">\n",
              "    <button class=\"colab-df-convert\" onclick=\"convertToInteractive('df-85385a80-946a-4bcc-9027-bb82ac503efe')\"\n",
              "            title=\"Convert this dataframe to an interactive table.\"\n",
              "            style=\"display:none;\">\n",
              "\n",
              "  <svg xmlns=\"http://www.w3.org/2000/svg\" height=\"24px\" viewBox=\"0 -960 960 960\">\n",
              "    <path d=\"M120-120v-720h720v720H120Zm60-500h600v-160H180v160Zm220 220h160v-160H400v160Zm0 220h160v-160H400v160ZM180-400h160v-160H180v160Zm440 0h160v-160H620v160ZM180-180h160v-160H180v160Zm440 0h160v-160H620v160Z\"/>\n",
              "  </svg>\n",
              "    </button>\n",
              "\n",
              "  <style>\n",
              "    .colab-df-container {\n",
              "      display:flex;\n",
              "      gap: 12px;\n",
              "    }\n",
              "\n",
              "    .colab-df-convert {\n",
              "      background-color: #E8F0FE;\n",
              "      border: none;\n",
              "      border-radius: 50%;\n",
              "      cursor: pointer;\n",
              "      display: none;\n",
              "      fill: #1967D2;\n",
              "      height: 32px;\n",
              "      padding: 0 0 0 0;\n",
              "      width: 32px;\n",
              "    }\n",
              "\n",
              "    .colab-df-convert:hover {\n",
              "      background-color: #E2EBFA;\n",
              "      box-shadow: 0px 1px 2px rgba(60, 64, 67, 0.3), 0px 1px 3px 1px rgba(60, 64, 67, 0.15);\n",
              "      fill: #174EA6;\n",
              "    }\n",
              "\n",
              "    .colab-df-buttons div {\n",
              "      margin-bottom: 4px;\n",
              "    }\n",
              "\n",
              "    [theme=dark] .colab-df-convert {\n",
              "      background-color: #3B4455;\n",
              "      fill: #D2E3FC;\n",
              "    }\n",
              "\n",
              "    [theme=dark] .colab-df-convert:hover {\n",
              "      background-color: #434B5C;\n",
              "      box-shadow: 0px 1px 3px 1px rgba(0, 0, 0, 0.15);\n",
              "      filter: drop-shadow(0px 1px 2px rgba(0, 0, 0, 0.3));\n",
              "      fill: #FFFFFF;\n",
              "    }\n",
              "  </style>\n",
              "\n",
              "    <script>\n",
              "      const buttonEl =\n",
              "        document.querySelector('#df-85385a80-946a-4bcc-9027-bb82ac503efe button.colab-df-convert');\n",
              "      buttonEl.style.display =\n",
              "        google.colab.kernel.accessAllowed ? 'block' : 'none';\n",
              "\n",
              "      async function convertToInteractive(key) {\n",
              "        const element = document.querySelector('#df-85385a80-946a-4bcc-9027-bb82ac503efe');\n",
              "        const dataTable =\n",
              "          await google.colab.kernel.invokeFunction('convertToInteractive',\n",
              "                                                    [key], {});\n",
              "        if (!dataTable) return;\n",
              "\n",
              "        const docLinkHtml = 'Like what you see? Visit the ' +\n",
              "          '<a target=\"_blank\" href=https://colab.research.google.com/notebooks/data_table.ipynb>data table notebook</a>'\n",
              "          + ' to learn more about interactive tables.';\n",
              "        element.innerHTML = '';\n",
              "        dataTable['output_type'] = 'display_data';\n",
              "        await google.colab.output.renderOutput(dataTable, element);\n",
              "        const docLink = document.createElement('div');\n",
              "        docLink.innerHTML = docLinkHtml;\n",
              "        element.appendChild(docLink);\n",
              "      }\n",
              "    </script>\n",
              "  </div>\n",
              "\n",
              "\n",
              "<div id=\"df-74ca8a0b-82b6-4ac9-8ad2-be48abfff1c0\">\n",
              "  <button class=\"colab-df-quickchart\" onclick=\"quickchart('df-74ca8a0b-82b6-4ac9-8ad2-be48abfff1c0')\"\n",
              "            title=\"Suggest charts\"\n",
              "            style=\"display:none;\">\n",
              "\n",
              "<svg xmlns=\"http://www.w3.org/2000/svg\" height=\"24px\"viewBox=\"0 0 24 24\"\n",
              "     width=\"24px\">\n",
              "    <g>\n",
              "        <path d=\"M19 3H5c-1.1 0-2 .9-2 2v14c0 1.1.9 2 2 2h14c1.1 0 2-.9 2-2V5c0-1.1-.9-2-2-2zM9 17H7v-7h2v7zm4 0h-2V7h2v10zm4 0h-2v-4h2v4z\"/>\n",
              "    </g>\n",
              "</svg>\n",
              "  </button>\n",
              "\n",
              "<style>\n",
              "  .colab-df-quickchart {\n",
              "      --bg-color: #E8F0FE;\n",
              "      --fill-color: #1967D2;\n",
              "      --hover-bg-color: #E2EBFA;\n",
              "      --hover-fill-color: #174EA6;\n",
              "      --disabled-fill-color: #AAA;\n",
              "      --disabled-bg-color: #DDD;\n",
              "  }\n",
              "\n",
              "  [theme=dark] .colab-df-quickchart {\n",
              "      --bg-color: #3B4455;\n",
              "      --fill-color: #D2E3FC;\n",
              "      --hover-bg-color: #434B5C;\n",
              "      --hover-fill-color: #FFFFFF;\n",
              "      --disabled-bg-color: #3B4455;\n",
              "      --disabled-fill-color: #666;\n",
              "  }\n",
              "\n",
              "  .colab-df-quickchart {\n",
              "    background-color: var(--bg-color);\n",
              "    border: none;\n",
              "    border-radius: 50%;\n",
              "    cursor: pointer;\n",
              "    display: none;\n",
              "    fill: var(--fill-color);\n",
              "    height: 32px;\n",
              "    padding: 0;\n",
              "    width: 32px;\n",
              "  }\n",
              "\n",
              "  .colab-df-quickchart:hover {\n",
              "    background-color: var(--hover-bg-color);\n",
              "    box-shadow: 0 1px 2px rgba(60, 64, 67, 0.3), 0 1px 3px 1px rgba(60, 64, 67, 0.15);\n",
              "    fill: var(--button-hover-fill-color);\n",
              "  }\n",
              "\n",
              "  .colab-df-quickchart-complete:disabled,\n",
              "  .colab-df-quickchart-complete:disabled:hover {\n",
              "    background-color: var(--disabled-bg-color);\n",
              "    fill: var(--disabled-fill-color);\n",
              "    box-shadow: none;\n",
              "  }\n",
              "\n",
              "  .colab-df-spinner {\n",
              "    border: 2px solid var(--fill-color);\n",
              "    border-color: transparent;\n",
              "    border-bottom-color: var(--fill-color);\n",
              "    animation:\n",
              "      spin 1s steps(1) infinite;\n",
              "  }\n",
              "\n",
              "  @keyframes spin {\n",
              "    0% {\n",
              "      border-color: transparent;\n",
              "      border-bottom-color: var(--fill-color);\n",
              "      border-left-color: var(--fill-color);\n",
              "    }\n",
              "    20% {\n",
              "      border-color: transparent;\n",
              "      border-left-color: var(--fill-color);\n",
              "      border-top-color: var(--fill-color);\n",
              "    }\n",
              "    30% {\n",
              "      border-color: transparent;\n",
              "      border-left-color: var(--fill-color);\n",
              "      border-top-color: var(--fill-color);\n",
              "      border-right-color: var(--fill-color);\n",
              "    }\n",
              "    40% {\n",
              "      border-color: transparent;\n",
              "      border-right-color: var(--fill-color);\n",
              "      border-top-color: var(--fill-color);\n",
              "    }\n",
              "    60% {\n",
              "      border-color: transparent;\n",
              "      border-right-color: var(--fill-color);\n",
              "    }\n",
              "    80% {\n",
              "      border-color: transparent;\n",
              "      border-right-color: var(--fill-color);\n",
              "      border-bottom-color: var(--fill-color);\n",
              "    }\n",
              "    90% {\n",
              "      border-color: transparent;\n",
              "      border-bottom-color: var(--fill-color);\n",
              "    }\n",
              "  }\n",
              "</style>\n",
              "\n",
              "  <script>\n",
              "    async function quickchart(key) {\n",
              "      const quickchartButtonEl =\n",
              "        document.querySelector('#' + key + ' button');\n",
              "      quickchartButtonEl.disabled = true;  // To prevent multiple clicks.\n",
              "      quickchartButtonEl.classList.add('colab-df-spinner');\n",
              "      try {\n",
              "        const charts = await google.colab.kernel.invokeFunction(\n",
              "            'suggestCharts', [key], {});\n",
              "      } catch (error) {\n",
              "        console.error('Error during call to suggestCharts:', error);\n",
              "      }\n",
              "      quickchartButtonEl.classList.remove('colab-df-spinner');\n",
              "      quickchartButtonEl.classList.add('colab-df-quickchart-complete');\n",
              "    }\n",
              "    (() => {\n",
              "      let quickchartButtonEl =\n",
              "        document.querySelector('#df-74ca8a0b-82b6-4ac9-8ad2-be48abfff1c0 button');\n",
              "      quickchartButtonEl.style.display =\n",
              "        google.colab.kernel.accessAllowed ? 'block' : 'none';\n",
              "    })();\n",
              "  </script>\n",
              "</div>\n",
              "    </div>\n",
              "  </div>\n"
            ],
            "application/vnd.google.colaboratory.intrinsic+json": {
              "type": "dataframe",
              "variable_name": "sorted_df",
              "summary": "{\n  \"name\": \"sorted_df\",\n  \"rows\": 2000,\n  \"fields\": [\n    {\n      \"column\": \"First Name\",\n      \"properties\": {\n        \"dtype\": \"string\",\n        \"num_unique_values\": 1162,\n        \"samples\": [\n          \"DEVONNE\",\n          \"OCTAVIAN\",\n          \"ALESSANDRA\"\n        ],\n        \"semantic_type\": \"\",\n        \"description\": \"\"\n      }\n    },\n    {\n      \"column\": \"Last Name\",\n      \"properties\": {\n        \"dtype\": \"string\",\n        \"num_unique_values\": 1620,\n        \"samples\": [\n          \"REILLY\",\n          \"LARODE\",\n          \"BIRD\"\n        ],\n        \"semantic_type\": \"\",\n        \"description\": \"\"\n      }\n    },\n    {\n      \"column\": \"Total OT Paid\",\n      \"properties\": {\n        \"dtype\": \"number\",\n        \"std\": 11701.48637801865,\n        \"min\": -242.16,\n        \"max\": 126184.02,\n        \"num_unique_values\": 507,\n        \"samples\": [\n          16727.06,\n          6507.49,\n          6.04\n        ],\n        \"semantic_type\": \"\",\n        \"description\": \"\"\n      }\n    }\n  ]\n}"
            }
          },
          "metadata": {},
          "execution_count": 17
        }
      ]
    },
    {
      "cell_type": "markdown",
      "source": [
        "### Question 5\n",
        "- *Find the five most popular song.*\n",
        "\n",
        "    - *A value of a song is defined as a combination of a artist_name value and a track_name value.*\n",
        "    - *Who are artists for those five most popular song?*"
      ],
      "metadata": {
        "id": "3DRYwyHvyFNV"
      }
    },
    {
      "cell_type": "code",
      "source": [
        "spotify = pd.read_csv('https://bcdanl.github.io/data/spotify_all.csv')"
      ],
      "metadata": {
        "id": "L5lYqb9_yH-1"
      },
      "execution_count": 18,
      "outputs": []
    },
    {
      "cell_type": "code",
      "source": [
        "df = spotify\n",
        "HighTrack = df['track_name'].value_counts().nlargest(5)\n",
        "\n",
        "\n",
        "#HighArtist = df['artist_name'].value_counts().nlargest(5)\n",
        "#HighTrack = df['track_name'].value_counts().nlargest(5)\n",
        "\n",
        "#TrackNames = HighTrack\n",
        "\n",
        "\n",
        "#df.sort_values(['artist_name'], ascending = False)\n",
        "#df.value_counts(['track_name'])\n",
        "#df.value_counts(['artist_name'])\n",
        "# df.value_counts(['track_name'])\n",
        "\n",
        "\n",
        "\n"
      ],
      "metadata": {
        "colab": {
          "base_uri": "https://localhost:8080/"
        },
        "id": "yRhlva_ezkyL",
        "outputId": "2d0cf69b-ab45-4f66-8531-2d762aab958d"
      },
      "execution_count": 72,
      "outputs": [
        {
          "output_type": "execute_result",
          "data": {
            "text/plain": [
              "Closer       205\n",
              "One Dance    144\n",
              "HUMBLE.      142\n",
              "Home         136\n",
              "Roses        132\n",
              "Name: track_name, dtype: int64"
            ]
          },
          "metadata": {},
          "execution_count": 72
        }
      ]
    },
    {
      "cell_type": "code",
      "source": [],
      "metadata": {
        "id": "L5B2p6KyCKfd"
      },
      "execution_count": null,
      "outputs": []
    }
  ]
}